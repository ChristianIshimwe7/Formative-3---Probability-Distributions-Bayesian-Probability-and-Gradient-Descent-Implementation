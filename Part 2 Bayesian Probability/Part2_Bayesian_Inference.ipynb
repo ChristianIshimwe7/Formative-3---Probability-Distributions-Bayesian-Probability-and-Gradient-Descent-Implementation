{
 "cells": [
  {
   "cell_type": "code",
   "execution_count": 1,
   "id": "c9e6c02e-a568-4880-b808-46b8219e0a75",
   "metadata": {},
   "outputs": [
    {
     "name": "stdout",
     "output_type": "stream",
     "text": [
      "Prior P(H): 0.0100\n",
      "P(E|H): 0.9500\n",
      "P(E|not H): 0.0500\n",
      "P(E): 0.0590\n",
      "Posterior P(H|E): 0.1610\n"
     ]
    }
   ],
   "source": [
    "import numpy as np\n",
    "\n",
    "# Define probabilities\n",
    "P_H = 0.01      # Prior probability of having the disease\n",
    "P_E_given_H = 0.95  # Likelihood of positive test given disease\n",
    "P_E_given_not_H = 0.05  # False positive rate\n",
    "P_not_H = 1 - P_H\n",
    "\n",
    "# Total probability of evidence\n",
    "P_E = (P_E_given_H * P_H) + (P_E_given_not_H * P_not_H)\n",
    "\n",
    "# Posterior probability\n",
    "P_H_given_E = (P_E_given_H * P_H) / P_E\n",
    "\n",
    "print(f\"Prior P(H): {P_H:.4f}\")\n",
    "print(f\"P(E|H): {P_E_given_H:.4f}\")\n",
    "print(f\"P(E|not H): {P_E_given_not_H:.4f}\")\n",
    "print(f\"P(E): {P_E:.4f}\")\n",
    "print(f\"Posterior P(H|E): {P_H_given_E:.4f}\")"
   ]
  }
 ],
 "metadata": {
  "kernelspec": {
   "display_name": "Python [conda env:base] *",
   "language": "python",
   "name": "conda-base-py"
  },
  "language_info": {
   "codemirror_mode": {
    "name": "ipython",
    "version": 3
   },
   "file_extension": ".py",
   "mimetype": "text/x-python",
   "name": "python",
   "nbconvert_exporter": "python",
   "pygments_lexer": "ipython3",
   "version": "3.12.7"
  }
 },
 "nbformat": 4,
 "nbformat_minor": 5
}
